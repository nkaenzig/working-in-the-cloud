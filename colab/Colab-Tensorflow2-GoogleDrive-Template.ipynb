{
 "cells": [
  {
   "cell_type": "markdown",
   "metadata": {
    "colab_type": "text",
    "id": "UCDRD4_WHwIE"
   },
   "source": [
    "# Template for Google Colab for Tensorflow 2.0 and loading data from Google Drive"
   ]
  },
  {
   "cell_type": "markdown",
   "metadata": {
    "colab_type": "text",
    "id": "2vkdbOVyHoJP"
   },
   "source": [
    "### Import Tensorflow 2.0"
   ]
  },
  {
   "cell_type": "code",
   "execution_count": null,
   "metadata": {
    "colab": {
     "base_uri": "https://localhost:8080/",
     "height": 33
    },
    "colab_type": "code",
    "executionInfo": {
     "elapsed": 881,
     "status": "ok",
     "timestamp": 1567697538568,
     "user": {
      "displayName": "Nicolas Känzig",
      "photoUrl": "",
      "userId": "15917789199657568453"
     },
     "user_tz": 300
    },
    "id": "-1fJZMolCLZB",
    "outputId": "fbc663c6-9d01-46d2-bb66-31c9f1fe7b79"
   },
   "outputs": [],
   "source": [
    "# Use Tensorflow 2.0 \n",
    "try:\n",
    "  # %tensorflow_version only exists in Colab.\n",
    "  %tensorflow_version 2.x\n",
    "except Exception:\n",
    "  pass"
   ]
  },
  {
   "cell_type": "code",
   "execution_count": null,
   "metadata": {
    "colab": {
     "base_uri": "https://localhost:8080/",
     "height": 33
    },
    "colab_type": "code",
    "executionInfo": {
     "elapsed": 3643,
     "status": "ok",
     "timestamp": 1567697541694,
     "user": {
      "displayName": "Nicolas Känzig",
      "photoUrl": "",
      "userId": "15917789199657568453"
     },
     "user_tz": 300
    },
    "id": "OSPOpE18DNLs",
    "outputId": "6f7e3c66-b616-42ed-9a7b-6943c0ff4e8e"
   },
   "outputs": [],
   "source": [
    "import tensorflow as tf\n",
    "AUTOTUNE = tf.data.experimental.AUTOTUNE\n",
    "keras = tf.keras\n",
    "print(tf.__version__)"
   ]
  },
  {
   "cell_type": "markdown",
   "metadata": {
    "colab_type": "text",
    "id": "poJ2TdqRH5DB"
   },
   "source": [
    "### Load Data from Google Drive"
   ]
  },
  {
   "cell_type": "code",
   "execution_count": null,
   "metadata": {
    "colab": {
     "base_uri": "https://localhost:8080/",
     "height": 120
    },
    "colab_type": "code",
    "executionInfo": {
     "elapsed": 23988,
     "status": "ok",
     "timestamp": 1567697621607,
     "user": {
      "displayName": "Nicolas Känzig",
      "photoUrl": "",
      "userId": "15917789199657568453"
     },
     "user_tz": 300
    },
    "id": "FarEB_qoDXog",
    "outputId": "0c8d2df7-102b-4862-efc6-ce5eeff492f8"
   },
   "outputs": [],
   "source": [
    "from google.colab import drive\n",
    "drive.mount('/content/drive')"
   ]
  },
  {
   "cell_type": "code",
   "execution_count": null,
   "metadata": {
    "colab": {
     "base_uri": "https://localhost:8080/",
     "height": 33
    },
    "colab_type": "code",
    "executionInfo": {
     "elapsed": 1721,
     "status": "ok",
     "timestamp": 1567697710367,
     "user": {
      "displayName": "Nicolas Känzig",
      "photoUrl": "",
      "userId": "15917789199657568453"
     },
     "user_tz": 300
    },
    "id": "01ALkqwZEFJC",
    "outputId": "686251b8-c5cc-4be9-db0a-f857c5314e19"
   },
   "outputs": [],
   "source": [
    "ls '/content/drive/My Drive/'"
   ]
  },
  {
   "cell_type": "code",
   "execution_count": null,
   "metadata": {
    "colab": {},
    "colab_type": "code",
    "id": "WURq9xFjEPOa"
   },
   "outputs": [],
   "source": [
    "!mkdir -vp data\n",
    "!cp -r '/content/drive/My Drive/collab_data/ml-1m' './data'\n",
    "!ls data/ml-1m\n",
    "\n",
    "# If dataset is big, just make a symbolic link (This doesn't make data loading any faster, but prevents possible issues with whe white space in the path)\n",
    "# !ln -s '/content/drive/My Drive/collab_data/ml-1m' './data'"
   ]
  },
  {
   "cell_type": "markdown",
   "metadata": {
    "colab_type": "text",
    "id": "CiohO9GFH_54"
   },
   "source": [
    "### Download Data directly to Colabs disk\n",
    "Drawback: This data won't persist after you close the Colab session"
   ]
  },
  {
   "cell_type": "code",
   "execution_count": null,
   "metadata": {
    "colab": {
     "base_uri": "https://localhost:8080/",
     "height": 200
    },
    "colab_type": "code",
    "executionInfo": {
     "elapsed": 4619,
     "status": "ok",
     "timestamp": 1567699011732,
     "user": {
      "displayName": "Nicolas Känzig",
      "photoUrl": "",
      "userId": "15917789199657568453"
     },
     "user_tz": 300
    },
    "id": "hThbXA5HGxzS",
    "outputId": "ce04d363-e318-49d1-9f21-31f219008386"
   },
   "outputs": [],
   "source": [
    "!mkdir -vp data\n",
    "!wget -P data/ http://files.grouplens.org/datasets/movielens/ml-1m.zip"
   ]
  },
  {
   "cell_type": "code",
   "execution_count": null,
   "metadata": {
    "colab": {},
    "colab_type": "code",
    "id": "yshtnYojJKLR"
   },
   "outputs": [],
   "source": [
    "# unpack .zip\n",
    "!unzip data/ml-1m.zip\n",
    "\n",
    "# unpack .tar\n",
    "tar -xvf ml-1m.tar\n",
    "\n",
    "# unpack .tar.gz\n",
    "tar -xvzf ml-1m.tar.gz"
   ]
  }
 ],
 "metadata": {
  "accelerator": "GPU",
  "colab": {
   "collapsed_sections": [],
   "name": "Movielens-recommender.ipynb",
   "provenance": [],
   "version": "0.3.2"
  },
  "kernelspec": {
   "display_name": "Python 3",
   "language": "python",
   "name": "python3"
  },
  "language_info": {
   "codemirror_mode": {
    "name": "ipython",
    "version": 3
   },
   "file_extension": ".py",
   "mimetype": "text/x-python",
   "name": "python",
   "nbconvert_exporter": "python",
   "pygments_lexer": "ipython3",
   "version": "3.7.3"
  }
 },
 "nbformat": 4,
 "nbformat_minor": 1
}
